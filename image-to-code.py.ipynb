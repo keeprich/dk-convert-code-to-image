{
 "cells": [
  {
   "cell_type": "code",
   "execution_count": 47,
   "id": "4f58014b",
   "metadata": {},
   "outputs": [
    {
     "name": "stderr",
     "output_type": "stream",
     "text": [
      "'chmod' is not recognized as an internal or external command,\n",
      "operable program or batch file.\n",
      "Exception in Tkinter callback\n",
      "Traceback (most recent call last):\n",
      "  File \"C:\\Users\\kenne\\anaconda3\\lib\\tkinter\\__init__.py\", line 1892, in __call__\n",
      "    return self.func(*args)\n",
      "  File \"C:\\Users\\kenne\\AppData\\Local\\Temp\\ipykernel_31580\\3996510871.py\", line 29, in choose_image\n",
      "    text = pytesseract.image_to_string(image)\n",
      "  File \"C:\\Users\\kenne\\anaconda3\\lib\\site-packages\\pytesseract\\pytesseract.py\", line 423, in image_to_string\n",
      "    return {\n",
      "  File \"C:\\Users\\kenne\\anaconda3\\lib\\site-packages\\pytesseract\\pytesseract.py\", line 426, in <lambda>\n",
      "    Output.STRING: lambda: run_and_get_output(*args),\n",
      "  File \"C:\\Users\\kenne\\anaconda3\\lib\\site-packages\\pytesseract\\pytesseract.py\", line 288, in run_and_get_output\n",
      "    run_tesseract(**kwargs)\n",
      "  File \"C:\\Users\\kenne\\anaconda3\\lib\\site-packages\\pytesseract\\pytesseract.py\", line 255, in run_tesseract\n",
      "    proc = subprocess.Popen(cmd_args, **subprocess_args())\n",
      "  File \"C:\\Users\\kenne\\anaconda3\\lib\\subprocess.py\", line 951, in __init__\n",
      "    self._execute_child(args, executable, preexec_fn, close_fds,\n",
      "  File \"C:\\Users\\kenne\\anaconda3\\lib\\subprocess.py\", line 1420, in _execute_child\n",
      "    hp, ht, pid, tid = _winapi.CreateProcess(executable, args,\n",
      "PermissionError: [WinError 5] Access is denied\n"
     ]
    },
    {
     "name": "stdout",
     "output_type": "stream",
     "text": [
      "all done\n",
      "ok\n"
     ]
    }
   ],
   "source": [
    "#!pip install pytesseract\n",
    "\n",
    "#!pip install pytesseract --target .\n",
    "\n",
    "#!chmod a+rx C:\\Users\\kenne\\LinuxAWSDevOps\\devops-start\\python-codes\\image-to-code\\packaging\n",
    "\n",
    "\n",
    "import tkinter as tk\n",
    "from tkinter import filedialog\n",
    "from PIL import Image\n",
    "import pytesseract\n",
    "\n",
    "# Path to the Tesseract OCR executable (modify this if necessary)\n",
    "pytesseract.pytesseract.tesseract_cmd = r'C:\\Users\\kenne\\LinuxAWSDevOps\\devops-start\\python-codes\\image-to-code\\packaging'\n",
    "\n",
    "def choose_image():\n",
    "    # Open a file dialog to select an image file\n",
    "    file_path = filedialog.askopenfilename()\n",
    "    \n",
    "    # Check if a file was selected\n",
    "    if file_path:\n",
    "        # Open the image file\n",
    "        image = Image.open(file_path)\n",
    "        \n",
    "        # Convert the image to grayscale\n",
    "        image = image.convert('L')\n",
    "        \n",
    "        # Perform OCR on the image\n",
    "        text = pytesseract.image_to_string(image)\n",
    "        \n",
    "        # Print the extracted text\n",
    "        print(text)\n",
    "\n",
    "# Create the main window\n",
    "window = tk.Tk()\n",
    "\n",
    "# Create the button\n",
    "button = tk.Button(window, text=\"Choose Image\", command=choose_image)\n",
    "button.pack()\n",
    "\n",
    "# Run the Tkinter event loop\n",
    "window.mainloop()\n",
    "\n",
    "print ('all done')\n",
    "print ('ok')"
   ]
  },
  {
   "cell_type": "code",
   "execution_count": 24,
   "id": "8ba149f2",
   "metadata": {},
   "outputs": [
    {
     "name": "stdout",
     "output_type": "stream",
     "text": [
      "Collecting pytesseract\n",
      "  Using cached pytesseract-0.3.10-py3-none-any.whl (14 kB)\n",
      "Collecting Pillow>=8.0.0\n",
      "  Using cached Pillow-9.5.0-cp39-cp39-win_amd64.whl (2.5 MB)\n",
      "Collecting packaging>=21.3\n",
      "  Using cached packaging-23.1-py3-none-any.whl (48 kB)\n",
      "Installing collected packages: Pillow, packaging, pytesseract\n",
      "Successfully installed Pillow-9.5.0 packaging-23.1 pytesseract-0.3.10\n"
     ]
    },
    {
     "name": "stderr",
     "output_type": "stream",
     "text": [
      "WARNING: Target directory C:\\Users\\kenne\\LinuxAWSDevOps\\devops-start\\python-codes\\image-to-code\\packaging already exists. Specify --upgrade to force replacement.\n",
      "WARNING: Target directory C:\\Users\\kenne\\LinuxAWSDevOps\\devops-start\\python-codes\\image-to-code\\packaging-23.1.dist-info already exists. Specify --upgrade to force replacement.\n",
      "WARNING: Target directory C:\\Users\\kenne\\LinuxAWSDevOps\\devops-start\\python-codes\\image-to-code\\PIL already exists. Specify --upgrade to force replacement.\n",
      "WARNING: Target directory C:\\Users\\kenne\\LinuxAWSDevOps\\devops-start\\python-codes\\image-to-code\\Pillow-9.5.0.dist-info already exists. Specify --upgrade to force replacement.\n",
      "WARNING: Target directory C:\\Users\\kenne\\LinuxAWSDevOps\\devops-start\\python-codes\\image-to-code\\pytesseract already exists. Specify --upgrade to force replacement.\n",
      "WARNING: Target directory C:\\Users\\kenne\\LinuxAWSDevOps\\devops-start\\python-codes\\image-to-code\\pytesseract-0.3.10.dist-info already exists. Specify --upgrade to force replacement.\n",
      "WARNING: Target directory C:\\Users\\kenne\\LinuxAWSDevOps\\devops-start\\python-codes\\image-to-code\\bin already exists. Specify --upgrade to force replacement.\n"
     ]
    }
   ],
   "source": [
    "!pip install pytesseract --target .\n"
   ]
  },
  {
   "cell_type": "code",
   "execution_count": 25,
   "id": "9f4d58f2",
   "metadata": {},
   "outputs": [
    {
     "name": "stderr",
     "output_type": "stream",
     "text": [
      "Exception in Tkinter callback\n",
      "Traceback (most recent call last):\n",
      "  File \"C:\\Users\\kenne\\anaconda3\\lib\\site-packages\\pytesseract\\pytesseract.py\", line 255, in run_tesseract\n",
      "    proc = subprocess.Popen(cmd_args, **subprocess_args())\n",
      "  File \"C:\\Users\\kenne\\anaconda3\\lib\\subprocess.py\", line 951, in __init__\n",
      "    self._execute_child(args, executable, preexec_fn, close_fds,\n",
      "  File \"C:\\Users\\kenne\\anaconda3\\lib\\subprocess.py\", line 1420, in _execute_child\n",
      "    hp, ht, pid, tid = _winapi.CreateProcess(executable, args,\n",
      "FileNotFoundError: [WinError 2] The system cannot find the file specified\n",
      "\n",
      "During handling of the above exception, another exception occurred:\n",
      "\n",
      "Traceback (most recent call last):\n",
      "  File \"C:\\Users\\kenne\\anaconda3\\lib\\tkinter\\__init__.py\", line 1892, in __call__\n",
      "    return self.func(*args)\n",
      "  File \"C:\\Users\\kenne\\AppData\\Local\\Temp\\ipykernel_31580\\3512775532.py\", line 28, in choose_image\n",
      "    text = pytesseract.image_to_string(image)\n",
      "  File \"C:\\Users\\kenne\\anaconda3\\lib\\site-packages\\pytesseract\\pytesseract.py\", line 423, in image_to_string\n",
      "    return {\n",
      "  File \"C:\\Users\\kenne\\anaconda3\\lib\\site-packages\\pytesseract\\pytesseract.py\", line 426, in <lambda>\n",
      "    Output.STRING: lambda: run_and_get_output(*args),\n",
      "  File \"C:\\Users\\kenne\\anaconda3\\lib\\site-packages\\pytesseract\\pytesseract.py\", line 288, in run_and_get_output\n",
      "    run_tesseract(**kwargs)\n",
      "  File \"C:\\Users\\kenne\\anaconda3\\lib\\site-packages\\pytesseract\\pytesseract.py\", line 260, in run_tesseract\n",
      "    raise TesseractNotFoundError()\n",
      "pytesseract.pytesseract.TesseractNotFoundError: tesseract.exe is not installed or it's not in your PATH. See README file for more information.\n"
     ]
    }
   ],
   "source": [
    "#!pip install pytesseract --target .\n",
    "\n",
    "\n",
    "import tkinter as tk\n",
    "from tkinter import filedialog\n",
    "from PIL import Image\n",
    "import pytesseract\n",
    "\n",
    "# Path to the Tesseract OCR executable (modify this if necessary)\n",
    "# pytesseract.pytesseract.tesseract_cmd = r'C:\\Program Files\\Tesseract-OCR\\tesseract.exe'\n",
    "\n",
    "pytesseract.pytesseract.tesseract_cmd = r'tesseract.exe'\n",
    "\n",
    "\n",
    "def choose_image():\n",
    "    # Open a file dialog to select an image file\n",
    "    file_path = filedialog.askopenfilename()\n",
    "    \n",
    "    # Check if a file was selected\n",
    "    if file_path:\n",
    "        # Open the image file\n",
    "        image = Image.open(file_path)\n",
    "        \n",
    "        # Convert the image to grayscale\n",
    "        image = image.convert('L')\n",
    "        \n",
    "        # Perform OCR on the image\n",
    "        text = pytesseract.image_to_string(image)\n",
    "        \n",
    "        # Print the extracted text\n",
    "        print(text)\n",
    "\n",
    "# Create the main window\n",
    "window = tk.Tk()\n",
    "\n",
    "# Set the window size\n",
    "window.geometry('400x200')\n",
    "\n",
    "# Create the button with light green background\n",
    "button = tk.Button(window, text=\"Choose Image\", command=choose_image, bg='light green')\n",
    "button.pack(pady=20)\n",
    "\n",
    "# Run the Tkinter event loop\n",
    "window.mainloop()\n",
    "\n",
    "# package path C:\\Users\\username\\Anaconda3\\Lib\\site-packages\n"
   ]
  },
  {
   "cell_type": "code",
   "execution_count": 16,
   "id": "caf9b488",
   "metadata": {},
   "outputs": [
    {
     "name": "stdout",
     "output_type": "stream",
     "text": [
      "['C:\\\\Users\\\\kenne\\\\anaconda3', 'C:\\\\Users\\\\kenne\\\\anaconda3\\\\lib\\\\site-packages']\n"
     ]
    }
   ],
   "source": [
    "import site\n",
    "print(site.getsitepackages())\n"
   ]
  },
  {
   "cell_type": "code",
   "execution_count": 17,
   "id": "73ec4616",
   "metadata": {},
   "outputs": [
    {
     "name": "stdout",
     "output_type": "stream",
     "text": [
      "['C:\\\\Users\\\\kenne\\\\anaconda3\\\\lib\\\\site-packages', 'C:\\\\Users\\\\kenne\\\\anaconda3\\\\lib\\\\site-packages\\\\win32', 'C:\\\\Users\\\\kenne\\\\anaconda3\\\\lib\\\\site-packages\\\\win32\\\\lib', 'C:\\\\Users\\\\kenne\\\\anaconda3\\\\lib\\\\site-packages\\\\Pythonwin', 'C:\\\\Users\\\\kenne\\\\anaconda3\\\\lib\\\\site-packages\\\\IPython\\\\extensions']\n"
     ]
    }
   ],
   "source": [
    "import sys\n",
    "\n",
    "site_packages = [path for path in sys.path if 'site-packages' in path]\n",
    "print(site_packages)\n"
   ]
  },
  {
   "cell_type": "code",
   "execution_count": 18,
   "id": "adfd4a6b",
   "metadata": {},
   "outputs": [
    {
     "name": "stdout",
     "output_type": "stream",
     "text": [
      "C:\\Users\\kenne\\anaconda3\\python.exe\n",
      "['C:\\\\Users\\\\kenne\\\\LinuxAWSDevOps\\\\devops-start\\\\python-codes\\\\image-to-code', 'C:\\\\Users\\\\kenne\\\\anaconda3\\\\python39.zip', 'C:\\\\Users\\\\kenne\\\\anaconda3\\\\DLLs', 'C:\\\\Users\\\\kenne\\\\anaconda3\\\\lib', 'C:\\\\Users\\\\kenne\\\\anaconda3', '', 'C:\\\\Users\\\\kenne\\\\anaconda3\\\\lib\\\\site-packages', 'C:\\\\Users\\\\kenne\\\\anaconda3\\\\lib\\\\site-packages\\\\win32', 'C:\\\\Users\\\\kenne\\\\anaconda3\\\\lib\\\\site-packages\\\\win32\\\\lib', 'C:\\\\Users\\\\kenne\\\\anaconda3\\\\lib\\\\site-packages\\\\Pythonwin', 'C:\\\\Users\\\\kenne\\\\anaconda3\\\\lib\\\\site-packages\\\\IPython\\\\extensions', 'C:\\\\Users\\\\kenne\\\\.ipython']\n"
     ]
    }
   ],
   "source": [
    "import sys\n",
    "\n",
    "print(sys.executable)\n",
    "print(sys.path)\n"
   ]
  },
  {
   "cell_type": "code",
   "execution_count": 26,
   "id": "679a46e5",
   "metadata": {},
   "outputs": [
    {
     "name": "stderr",
     "output_type": "stream",
     "text": [
      "ERROR: Could not find a version that satisfies the requirement ocropy (from versions: none)\n",
      "ERROR: No matching distribution found for ocropy\n"
     ]
    }
   ],
   "source": [
    "!pip install ocropy\n"
   ]
  },
  {
   "cell_type": "code",
   "execution_count": 27,
   "id": "1ae9c28c",
   "metadata": {},
   "outputs": [
    {
     "ename": "ModuleNotFoundError",
     "evalue": "No module named 'ocropy'",
     "output_type": "error",
     "traceback": [
      "\u001b[1;31m---------------------------------------------------------------------------\u001b[0m",
      "\u001b[1;31mModuleNotFoundError\u001b[0m                       Traceback (most recent call last)",
      "\u001b[1;32m~\\AppData\\Local\\Temp\\ipykernel_31580\\1628123158.py\u001b[0m in \u001b[0;36m<module>\u001b[1;34m\u001b[0m\n\u001b[0;32m      2\u001b[0m \u001b[1;32mfrom\u001b[0m \u001b[0mtkinter\u001b[0m \u001b[1;32mimport\u001b[0m \u001b[0mfiledialog\u001b[0m\u001b[1;33m\u001b[0m\u001b[1;33m\u001b[0m\u001b[0m\n\u001b[0;32m      3\u001b[0m \u001b[1;32mfrom\u001b[0m \u001b[0mPIL\u001b[0m \u001b[1;32mimport\u001b[0m \u001b[0mImage\u001b[0m\u001b[1;33m\u001b[0m\u001b[1;33m\u001b[0m\u001b[0m\n\u001b[1;32m----> 4\u001b[1;33m \u001b[1;32mfrom\u001b[0m \u001b[0mocropy\u001b[0m \u001b[1;32mimport\u001b[0m \u001b[0mocropy\u001b[0m\u001b[1;33m\u001b[0m\u001b[1;33m\u001b[0m\u001b[0m\n\u001b[0m\u001b[0;32m      5\u001b[0m \u001b[1;33m\u001b[0m\u001b[0m\n\u001b[0;32m      6\u001b[0m \u001b[1;32mdef\u001b[0m \u001b[0mchoose_image\u001b[0m\u001b[1;33m(\u001b[0m\u001b[1;33m)\u001b[0m\u001b[1;33m:\u001b[0m\u001b[1;33m\u001b[0m\u001b[1;33m\u001b[0m\u001b[0m\n",
      "\u001b[1;31mModuleNotFoundError\u001b[0m: No module named 'ocropy'"
     ]
    }
   ],
   "source": [
    "\n",
    "import tkinter as tk\n",
    "from tkinter import filedialog\n",
    "from PIL import Image\n",
    "from ocropy import ocropy\n",
    "\n",
    "def choose_image():\n",
    "    # Open a file dialog to select an image file\n",
    "    file_path = filedialog.askopenfilename()\n",
    "\n",
    "    # Check if a file was selected\n",
    "    if file_path:\n",
    "        # Open the image file\n",
    "        image = Image.open(file_path)\n",
    "\n",
    "        # Convert the image to grayscale\n",
    "        image = image.convert('L')\n",
    "\n",
    "        # Perform OCR on the image\n",
    "        text = ocropy.image_to_string(image)\n",
    "\n",
    "        # Print the extracted text\n",
    "        print(text)\n",
    "\n",
    "# Create the main window\n",
    "window = tk.Tk()\n",
    "\n",
    "# Set the window size\n",
    "window.geometry('400x200')\n",
    "\n",
    "# Create the button with light green background\n",
    "button = tk.Button(window, text=\"Choose Image\", command=choose_image, bg='light green')\n",
    "button.pack(pady=20)\n",
    "\n",
    "# Run the Tkinter event loop\n",
    "window.mainloop()\n"
   ]
  },
  {
   "cell_type": "code",
   "execution_count": 28,
   "id": "b6494c85",
   "metadata": {},
   "outputs": [
    {
     "name": "stdout",
     "output_type": "stream",
     "text": [
      "Collecting pyocr\n",
      "  Downloading pyocr-0.8.3.tar.gz (67 kB)\n",
      "     -------------------------------------- 67.6/67.6 kB 215.7 kB/s eta 0:00:00\n",
      "  Preparing metadata (setup.py): started\n",
      "  Preparing metadata (setup.py): finished with status 'done'\n",
      "Requirement already satisfied: Pillow in c:\\users\\kenne\\anaconda3\\lib\\site-packages (from pyocr) (9.2.0)\n",
      "Building wheels for collected packages: pyocr\n",
      "  Building wheel for pyocr (setup.py): started\n",
      "  Building wheel for pyocr (setup.py): finished with status 'done'\n",
      "  Created wheel for pyocr: filename=pyocr-0.8.3-py3-none-any.whl size=37160 sha256=959d4896edd5af9050eda19daaadb6e4077da674af999a308740869453a85238\n",
      "  Stored in directory: c:\\users\\kenne\\appdata\\local\\pip\\cache\\wheels\\fd\\77\\6a\\e7f97be77dd46cc892e7b5fd9914f28a2b2fbf0bba86929607\n",
      "Successfully built pyocr\n",
      "Installing collected packages: pyocr\n",
      "Successfully installed pyocr-0.8.3\n"
     ]
    }
   ],
   "source": [
    "!pip install pyocr\n"
   ]
  },
  {
   "cell_type": "code",
   "execution_count": 30,
   "id": "5191e178",
   "metadata": {},
   "outputs": [
    {
     "name": "stdout",
     "output_type": "stream",
     "text": [
      "No OCR engine available.\n",
      "[]\n"
     ]
    }
   ],
   "source": [
    "\n",
    "import tkinter as tk\n",
    "from tkinter import filedialog\n",
    "from PIL import Image\n",
    "import pyocr\n",
    "import pyocr.builders\n",
    "\n",
    "def choose_image():\n",
    "    # Open a file dialog to select an image file\n",
    "    file_path = filedialog.askopenfilename()\n",
    "\n",
    "    # Check if a file was selected\n",
    "    if file_path:\n",
    "        # Open the image file\n",
    "        image = Image.open(file_path)\n",
    "\n",
    "        # Convert the image to grayscale\n",
    "        image = image.convert('L')\n",
    "\n",
    "        # Get the OCR engine\n",
    "        tools = pyocr.get_available_tools()\n",
    "        if len(tools) > 0:\n",
    "            # Use the first available OCR engine\n",
    "            tool = tools[0]\n",
    "            # Perform OCR on the image\n",
    "            text = tool.image_to_string(\n",
    "                image,\n",
    "                builder=pyocr.builders.TextBuilder()\n",
    "            )\n",
    "            # Print the extracted text\n",
    "            print(text)\n",
    "        else:\n",
    "            print(\"No OCR engine available.\")\n",
    "            print (pyocr.get_available_tools())\n",
    "\n",
    "# Create the main window\n",
    "window = tk.Tk()\n",
    "\n",
    "# Set the window size\n",
    "window.geometry('400x200')\n",
    "\n",
    "# Create the button with light green background\n",
    "button = tk.Button(window, text=\"Choose Image\", command=choose_image, bg='light green')\n",
    "button.pack(pady=20)\n",
    "\n",
    "# Run the Tkinter event loop\n",
    "window.mainloop()\n"
   ]
  },
  {
   "cell_type": "code",
   "execution_count": 32,
   "id": "200267fc",
   "metadata": {},
   "outputs": [
    {
     "name": "stderr",
     "output_type": "stream",
     "text": [
      "'ls' is not recognized as an internal or external command,\n",
      "operable program or batch file.\n"
     ]
    }
   ],
   "source": [
    "!ls"
   ]
  },
  {
   "cell_type": "code",
   "execution_count": 33,
   "id": "96ee4da6",
   "metadata": {},
   "outputs": [
    {
     "name": "stderr",
     "output_type": "stream",
     "text": [
      "'ls' is not recognized as an internal or external command,\n",
      "operable program or batch file.\n"
     ]
    }
   ],
   "source": [
    "!ls"
   ]
  },
  {
   "cell_type": "code",
   "execution_count": 40,
   "id": "12987ae4",
   "metadata": {},
   "outputs": [
    {
     "name": "stdout",
     "output_type": "stream",
     "text": [
      "1\n"
     ]
    }
   ],
   "source": [
    "import os\n",
    "\n",
    "print (os.system('pwd'))\n",
    "\n"
   ]
  },
  {
   "cell_type": "code",
   "execution_count": 42,
   "id": "e3639b8d",
   "metadata": {},
   "outputs": [
    {
     "name": "stdout",
     "output_type": "stream",
     "text": [
      "Files found:\n",
      "\n"
     ]
    }
   ],
   "source": [
    "import os\n",
    "\n",
    "def find_files(file_name):\n",
    "    command = f'find / -name \"{file_name}\" 2>/dev/null'\n",
    "    output = os.popen(command).read()\n",
    "    file_paths = output.strip().split('\\n')\n",
    "    return [file_path.strip() for file_path in file_paths]\n",
    "\n",
    "# Specify the file name\n",
    "file_name = \"me.png\"\n",
    "\n",
    "# Call the function to find the files\n",
    "results = find_files(file_name)\n",
    "\n",
    "# Check if any files were found\n",
    "if results:\n",
    "    print(\"Files found:\")\n",
    "    for file_path in results:\n",
    "        print(file_path)\n",
    "else:\n",
    "    print(\"No files found.\")\n"
   ]
  },
  {
   "cell_type": "code",
   "execution_count": 49,
   "id": "7fbe6214",
   "metadata": {},
   "outputs": [
    {
     "name": "stdout",
     "output_type": "stream",
     "text": [
      "Collecting opencv-python\n",
      "  Downloading opencv_python-4.7.0.72-cp37-abi3-win_amd64.whl (38.2 MB)\n",
      "     ---------------------------------------- 38.2/38.2 MB 4.0 MB/s eta 0:00:00\n",
      "Requirement already satisfied: numpy>=1.17.0 in c:\\users\\kenne\\anaconda3\\lib\\site-packages (from opencv-python) (1.21.5)\n",
      "Installing collected packages: opencv-python\n",
      "Successfully installed opencv-python-4.7.0.72\n"
     ]
    }
   ],
   "source": [
    "!pip install opencv-python"
   ]
  },
  {
   "cell_type": "code",
   "execution_count": 50,
   "id": "9ef964ff",
   "metadata": {},
   "outputs": [
    {
     "name": "stderr",
     "output_type": "stream",
     "text": [
      "Exception in Tkinter callback\n",
      "Traceback (most recent call last):\n",
      "  File \"C:\\Users\\kenne\\anaconda3\\lib\\tkinter\\__init__.py\", line 1892, in __call__\n",
      "    return self.func(*args)\n",
      "  File \"C:\\Users\\kenne\\AppData\\Local\\Temp\\ipykernel_31580\\2746405691.py\", line 16, in select_image\n",
      "    text = pytesseract.image_to_string(gray)\n",
      "  File \"C:\\Users\\kenne\\anaconda3\\lib\\site-packages\\pytesseract\\pytesseract.py\", line 423, in image_to_string\n",
      "    return {\n",
      "  File \"C:\\Users\\kenne\\anaconda3\\lib\\site-packages\\pytesseract\\pytesseract.py\", line 426, in <lambda>\n",
      "    Output.STRING: lambda: run_and_get_output(*args),\n",
      "  File \"C:\\Users\\kenne\\anaconda3\\lib\\site-packages\\pytesseract\\pytesseract.py\", line 288, in run_and_get_output\n",
      "    run_tesseract(**kwargs)\n",
      "  File \"C:\\Users\\kenne\\anaconda3\\lib\\site-packages\\pytesseract\\pytesseract.py\", line 255, in run_tesseract\n",
      "    proc = subprocess.Popen(cmd_args, **subprocess_args())\n",
      "  File \"C:\\Users\\kenne\\anaconda3\\lib\\subprocess.py\", line 951, in __init__\n",
      "    self._execute_child(args, executable, preexec_fn, close_fds,\n",
      "  File \"C:\\Users\\kenne\\anaconda3\\lib\\subprocess.py\", line 1420, in _execute_child\n",
      "    hp, ht, pid, tid = _winapi.CreateProcess(executable, args,\n",
      "PermissionError: [WinError 5] Access is denied\n"
     ]
    }
   ],
   "source": [
    "import tkinter as tk\n",
    "from tkinter import filedialog\n",
    "import cv2\n",
    "import pytesseract\n",
    "\n",
    "def select_image():\n",
    "    filepath = filedialog.askopenfilename(title=\"Select Image\", filetypes=[(\"Image Files\", \"*.png *.jpg *.jpeg\")])\n",
    "    if filepath:\n",
    "        # Read the image\n",
    "        image = cv2.imread(filepath)\n",
    "\n",
    "        # Convert the image to grayscale\n",
    "        gray = cv2.cvtColor(image, cv2.COLOR_BGR2GRAY)\n",
    "\n",
    "        # Extract text from the image\n",
    "        text = pytesseract.image_to_string(gray)\n",
    "\n",
    "        # Display the extracted text\n",
    "        text_label.config(text=text)\n",
    "\n",
    "        # Ask the user for the text file path\n",
    "        save_filepath = filedialog.asksaveasfilename(title=\"Save Text\", defaultextension=\".txt\")\n",
    "\n",
    "        # Save the extracted text to the specified location\n",
    "        if save_filepath:\n",
    "            with open(save_filepath, \"w\") as file:\n",
    "                file.write(text)\n",
    "                print(\"Text saved successfully.\")\n",
    "\n",
    "        # Change the permission of the image file to 777\n",
    "        cv2.chmod(filepath, 0o777)\n",
    "        print(\"Image permission changed.\")\n",
    "\n",
    "# Create the main application window\n",
    "window = tk.Tk()\n",
    "window.title(\"Image Text Extractor\")\n",
    "\n",
    "# Create a button to select the image\n",
    "select_button = tk.Button(window, text=\"Select Image\", command=select_image)\n",
    "select_button.pack(pady=10)\n",
    "\n",
    "# Create a label to display the extracted text\n",
    "text_label = tk.Label(window, text=\"\")\n",
    "text_label.pack(pady=10)\n",
    "\n",
    "# Start the application\n",
    "window.mainloop()\n"
   ]
  },
  {
   "cell_type": "code",
   "execution_count": 51,
   "id": "1cdfa4f9",
   "metadata": {},
   "outputs": [
    {
     "name": "stdout",
     "output_type": "stream",
     "text": [
      "Enter the path to the uploaded image: /c/Users/kenne/LinuxAWSDevOps/devops-start/perm.png\n"
     ]
    },
    {
     "ename": "FileNotFoundError",
     "evalue": "[Errno 2] No such file or directory: '/c/Users/kenne/LinuxAWSDevOps/devops-start/perm.png'",
     "output_type": "error",
     "traceback": [
      "\u001b[1;31m---------------------------------------------------------------------------\u001b[0m",
      "\u001b[1;31mFileNotFoundError\u001b[0m                         Traceback (most recent call last)",
      "\u001b[1;32m~\\AppData\\Local\\Temp\\ipykernel_31580\\674401535.py\u001b[0m in \u001b[0;36m<module>\u001b[1;34m\u001b[0m\n\u001b[0;32m     23\u001b[0m \u001b[1;31m# Take a snapshot of the image\u001b[0m\u001b[1;33m\u001b[0m\u001b[1;33m\u001b[0m\u001b[0m\n\u001b[0;32m     24\u001b[0m \u001b[0msnapshot_path\u001b[0m \u001b[1;33m=\u001b[0m \u001b[1;34m\"snapshot.jpg\"\u001b[0m  \u001b[1;31m# Provide a name for the snapshot image\u001b[0m\u001b[1;33m\u001b[0m\u001b[1;33m\u001b[0m\u001b[0m\n\u001b[1;32m---> 25\u001b[1;33m \u001b[0msnapshot\u001b[0m \u001b[1;33m=\u001b[0m \u001b[0mImage\u001b[0m\u001b[1;33m.\u001b[0m\u001b[0mopen\u001b[0m\u001b[1;33m(\u001b[0m\u001b[0mimage_path\u001b[0m\u001b[1;33m)\u001b[0m\u001b[1;33m\u001b[0m\u001b[1;33m\u001b[0m\u001b[0m\n\u001b[0m\u001b[0;32m     26\u001b[0m \u001b[0msnapshot\u001b[0m\u001b[1;33m.\u001b[0m\u001b[0msave\u001b[0m\u001b[1;33m(\u001b[0m\u001b[0msnapshot_path\u001b[0m\u001b[1;33m)\u001b[0m\u001b[1;33m\u001b[0m\u001b[1;33m\u001b[0m\u001b[0m\n\u001b[0;32m     27\u001b[0m \u001b[1;33m\u001b[0m\u001b[0m\n",
      "\u001b[1;32m~\\anaconda3\\lib\\site-packages\\PIL\\Image.py\u001b[0m in \u001b[0;36mopen\u001b[1;34m(fp, mode, formats)\u001b[0m\n\u001b[0;32m   3090\u001b[0m \u001b[1;33m\u001b[0m\u001b[0m\n\u001b[0;32m   3091\u001b[0m     \u001b[1;32mif\u001b[0m \u001b[0mfilename\u001b[0m\u001b[1;33m:\u001b[0m\u001b[1;33m\u001b[0m\u001b[1;33m\u001b[0m\u001b[0m\n\u001b[1;32m-> 3092\u001b[1;33m         \u001b[0mfp\u001b[0m \u001b[1;33m=\u001b[0m \u001b[0mbuiltins\u001b[0m\u001b[1;33m.\u001b[0m\u001b[0mopen\u001b[0m\u001b[1;33m(\u001b[0m\u001b[0mfilename\u001b[0m\u001b[1;33m,\u001b[0m \u001b[1;34m\"rb\"\u001b[0m\u001b[1;33m)\u001b[0m\u001b[1;33m\u001b[0m\u001b[1;33m\u001b[0m\u001b[0m\n\u001b[0m\u001b[0;32m   3093\u001b[0m         \u001b[0mexclusive_fp\u001b[0m \u001b[1;33m=\u001b[0m \u001b[1;32mTrue\u001b[0m\u001b[1;33m\u001b[0m\u001b[1;33m\u001b[0m\u001b[0m\n\u001b[0;32m   3094\u001b[0m \u001b[1;33m\u001b[0m\u001b[0m\n",
      "\u001b[1;31mFileNotFoundError\u001b[0m: [Errno 2] No such file or directory: '/c/Users/kenne/LinuxAWSDevOps/devops-start/perm.png'"
     ]
    }
   ],
   "source": [
    "import os\n",
    "import pytesseract\n",
    "from PIL import Image\n",
    "\n",
    "# Function to change the permissions of a file\n",
    "def change_permissions(file_path, permissions):\n",
    "    os.chmod(file_path, permissions)\n",
    "\n",
    "# Function to extract text from an image\n",
    "def extract_text_from_image(image_path):\n",
    "    image = Image.open(image_path)\n",
    "    text = pytesseract.image_to_string(image)\n",
    "    return text\n",
    "\n",
    "# Function to save text to a file\n",
    "def save_text(text, file_path):\n",
    "    with open(file_path, 'w') as file:\n",
    "        file.write(text)\n",
    "\n",
    "# Get the path to the uploaded image\n",
    "image_path = input(\"Enter the path to the uploaded image: \")\n",
    "\n",
    "# Take a snapshot of the image\n",
    "snapshot_path = \"snapshot.jpg\"  # Provide a name for the snapshot image\n",
    "snapshot = Image.open(image_path)\n",
    "snapshot.save(snapshot_path)\n",
    "\n",
    "# Change permissions of the snapshot image to 777\n",
    "change_permissions(snapshot_path, 0o777)\n",
    "\n",
    "# Extract text from the snapshot image\n",
    "extracted_text = extract_text_from_image(snapshot_path)\n",
    "\n",
    "# Display the extracted text\n",
    "print(\"Extracted Text:\")\n",
    "print(extracted_text)\n",
    "\n",
    "# Ask the user where to store the text\n",
    "save_path = input(\"Enter the path to store the extracted text: \")\n",
    "\n",
    "# Save the extracted text to the specified location\n",
    "save_text(extracted_text, save_path)\n",
    "\n",
    "# Remove the snapshot image\n",
    "os.remove(snapshot_path)\n"
   ]
  },
  {
   "cell_type": "code",
   "execution_count": 56,
   "id": "2a92d6bf",
   "metadata": {},
   "outputs": [
    {
     "name": "stderr",
     "output_type": "stream",
     "text": [
      "Exception in Tkinter callback\n",
      "Traceback (most recent call last):\n",
      "  File \"C:\\Users\\kenne\\anaconda3\\lib\\tkinter\\__init__.py\", line 1892, in __call__\n",
      "    return self.func(*args)\n",
      "  File \"C:\\Users\\kenne\\AppData\\Local\\Temp\\ipykernel_31580\\3336606559.py\", line 53, in process_image\n",
      "    extracted_text = extract_text_from_image(snapshot_path)\n",
      "  File \"C:\\Users\\kenne\\AppData\\Local\\Temp\\ipykernel_31580\\3336606559.py\", line 15, in extract_text_from_image\n",
      "    text = pytesseract.image_to_string(image)\n",
      "  File \"C:\\Users\\kenne\\anaconda3\\lib\\site-packages\\pytesseract\\pytesseract.py\", line 423, in image_to_string\n",
      "    return {\n",
      "  File \"C:\\Users\\kenne\\anaconda3\\lib\\site-packages\\pytesseract\\pytesseract.py\", line 426, in <lambda>\n",
      "    Output.STRING: lambda: run_and_get_output(*args),\n",
      "  File \"C:\\Users\\kenne\\anaconda3\\lib\\site-packages\\pytesseract\\pytesseract.py\", line 288, in run_and_get_output\n",
      "    run_tesseract(**kwargs)\n",
      "  File \"C:\\Users\\kenne\\anaconda3\\lib\\site-packages\\pytesseract\\pytesseract.py\", line 255, in run_tesseract\n",
      "    proc = subprocess.Popen(cmd_args, **subprocess_args())\n",
      "  File \"C:\\Users\\kenne\\anaconda3\\lib\\subprocess.py\", line 951, in __init__\n",
      "    self._execute_child(args, executable, preexec_fn, close_fds,\n",
      "  File \"C:\\Users\\kenne\\anaconda3\\lib\\subprocess.py\", line 1420, in _execute_child\n",
      "    hp, ht, pid, tid = _winapi.CreateProcess(executable, args,\n",
      "PermissionError: [WinError 5] Access is denied\n"
     ]
    }
   ],
   "source": [
    "import os\n",
    "import pytesseract\n",
    "from PIL import Image\n",
    "import tkinter as tk\n",
    "from tkinter import filedialog\n",
    "from PIL import ImageTk\n",
    "\n",
    "# Function to change the permissions of a file\n",
    "def change_permissions(file_path, permissions):\n",
    "    os.chmod(file_path, permissions)\n",
    "\n",
    "# Function to extract text from an image\n",
    "def extract_text_from_image(image_path):\n",
    "    image = Image.open(image_path)\n",
    "    text = pytesseract.image_to_string(image)\n",
    "    return text\n",
    "\n",
    "# Function to save text to a file\n",
    "def save_text(text, file_path):\n",
    "    with open(file_path, 'w') as file:\n",
    "        file.write(text)\n",
    "\n",
    "# Function to handle the button click event\n",
    "def select_image():\n",
    "    # Open a file dialog to select an image\n",
    "    image_path = filedialog.askopenfilename(filetypes=[(\"Image Files\", \"*.png;*.jpg;*.jpeg\")])\n",
    "\n",
    "    # Display the selected image\n",
    "    if image_path:\n",
    "        # Save the selected image path\n",
    "        global selected_image_path\n",
    "        selected_image_path = image_path\n",
    "\n",
    "        # Open and display the selected image\n",
    "        image = Image.open(image_path)\n",
    "        image.thumbnail((400, 400))  # Resize the image for display\n",
    "        image_tk = ImageTk.PhotoImage(image)\n",
    "        image_label.configure(image=image_tk)\n",
    "        image_label.image = image_tk\n",
    "\n",
    "# Function to process the selected image\n",
    "def process_image():\n",
    "    if selected_image_path:\n",
    "        # Take a snapshot of the image\n",
    "        snapshot_path = \"snapshot.jpg\"  # Provide a name for the snapshot image\n",
    "        snapshot = Image.open(selected_image_path)\n",
    "        snapshot.save(snapshot_path)\n",
    "\n",
    "        # Change permissions of the snapshot image to 777\n",
    "        change_permissions(snapshot_path, 0o777)\n",
    "\n",
    "        # Extract text from the snapshot image\n",
    "        extracted_text = extract_text_from_image(snapshot_path)\n",
    "\n",
    "        # Display the extracted text\n",
    "        print(\"Extracted Text:\")\n",
    "        print(extracted_text)\n",
    "\n",
    "        # Ask the user where to store the text\n",
    "        save_path = filedialog.asksaveasfilename(defaultextension=\".txt\", filetypes=[(\"Text Files\", \"*.txt\")])\n",
    "\n",
    "        # Save the extracted text to the specified location\n",
    "        if save_path:\n",
    "            save_text(extracted_text, save_path)\n",
    "\n",
    "        # Remove the snapshot image\n",
    "        os.remove(snapshot_path)\n",
    "\n",
    "# Create the main window\n",
    "window = tk.Tk()\n",
    "\n",
    "# Create an \"Upload\" button\n",
    "upload_button = tk.Button(window, text=\"Upload Image\", command=select_image)\n",
    "upload_button.pack(pady=10)\n",
    "\n",
    "# Create a label to display the selected image\n",
    "image_label = tk.Label(window)\n",
    "image_label.pack()\n",
    "\n",
    "# Create a \"Process\" button\n",
    "process_button = tk.Button(window, text=\"Process Image\", command=process_image)\n",
    "process_button.pack(pady=10)\n",
    "\n",
    "# Initialize the selected_image_path variable\n",
    "selected_image_path = None\n",
    "\n",
    "# Start the main loop\n",
    "window.mainloop()\n"
   ]
  },
  {
   "cell_type": "code",
   "execution_count": 1,
   "id": "e2f1e022",
   "metadata": {},
   "outputs": [
    {
     "name": "stderr",
     "output_type": "stream",
     "text": [
      "Exception in Tkinter callback\n",
      "Traceback (most recent call last):\n",
      "  File \"C:\\Users\\kenne\\LinuxAWSDevOps\\devops-start\\python-codes\\image-to-code\\pytesseract\\pytesseract.py\", line 255, in run_tesseract\n",
      "    proc = subprocess.Popen(cmd_args, **subprocess_args())\n",
      "  File \"C:\\Users\\kenne\\anaconda3\\lib\\subprocess.py\", line 951, in __init__\n",
      "    self._execute_child(args, executable, preexec_fn, close_fds,\n",
      "  File \"C:\\Users\\kenne\\anaconda3\\lib\\subprocess.py\", line 1420, in _execute_child\n",
      "    hp, ht, pid, tid = _winapi.CreateProcess(executable, args,\n",
      "FileNotFoundError: [WinError 2] The system cannot find the file specified\n",
      "\n",
      "During handling of the above exception, another exception occurred:\n",
      "\n",
      "Traceback (most recent call last):\n",
      "  File \"C:\\Users\\kenne\\anaconda3\\lib\\tkinter\\__init__.py\", line 1892, in __call__\n",
      "    return self.func(*args)\n",
      "  File \"C:\\Users\\kenne\\AppData\\Local\\Temp\\ipykernel_19176\\3374864676.py\", line 46, in process_image\n",
      "    extracted_text = extract_text_from_image(snapshot_path)\n",
      "  File \"C:\\Users\\kenne\\AppData\\Local\\Temp\\ipykernel_19176\\3374864676.py\", line 11, in extract_text_from_image\n",
      "    text = pytesseract.image_to_string(image)\n",
      "  File \"C:\\Users\\kenne\\LinuxAWSDevOps\\devops-start\\python-codes\\image-to-code\\pytesseract\\pytesseract.py\", line 423, in image_to_string\n",
      "    return {\n",
      "  File \"C:\\Users\\kenne\\LinuxAWSDevOps\\devops-start\\python-codes\\image-to-code\\pytesseract\\pytesseract.py\", line 426, in <lambda>\n",
      "    Output.STRING: lambda: run_and_get_output(*args),\n",
      "  File \"C:\\Users\\kenne\\LinuxAWSDevOps\\devops-start\\python-codes\\image-to-code\\pytesseract\\pytesseract.py\", line 288, in run_and_get_output\n",
      "    run_tesseract(**kwargs)\n",
      "  File \"C:\\Users\\kenne\\LinuxAWSDevOps\\devops-start\\python-codes\\image-to-code\\pytesseract\\pytesseract.py\", line 260, in run_tesseract\n",
      "    raise TesseractNotFoundError()\n",
      "pytesseract.pytesseract.TesseractNotFoundError: tesseract is not installed or it's not in your PATH. See README file for more information.\n"
     ]
    }
   ],
   "source": [
    "import os\n",
    "import pytesseract\n",
    "from PIL import Image\n",
    "import tkinter as tk\n",
    "from tkinter import filedialog\n",
    "from PIL import ImageTk\n",
    "\n",
    "# Function to extract text from an image\n",
    "def extract_text_from_image(image_path):\n",
    "    image = Image.open(image_path)\n",
    "    text = pytesseract.image_to_string(image)\n",
    "    return text\n",
    "\n",
    "# Function to save text to a file\n",
    "def save_text(text, file_path):\n",
    "    with open(file_path, 'w') as file:\n",
    "        file.write(text)\n",
    "\n",
    "# Function to handle the button click event\n",
    "def select_image():\n",
    "    # Open a file dialog to select an image\n",
    "    image_path = filedialog.askopenfilename(filetypes=[(\"Image Files\", \"*.png;*.jpg;*.jpeg\")])\n",
    "\n",
    "    # Display the selected image\n",
    "    if image_path:\n",
    "        # Save the selected image path\n",
    "        global selected_image_path\n",
    "        selected_image_path = image_path\n",
    "\n",
    "        # Open and display the selected image\n",
    "        image = Image.open(image_path)\n",
    "        image.thumbnail((400, 400))  # Resize the image for display\n",
    "        image_tk = ImageTk.PhotoImage(image)\n",
    "        image_label.configure(image=image_tk)\n",
    "        image_label.image = image_tk\n",
    "\n",
    "# Function to process the selected image\n",
    "def process_image():\n",
    "    if selected_image_path:\n",
    "        # Take a snapshot of the image\n",
    "        snapshot_path = \"snapshot.jpg\"  # Provide a name for the snapshot image\n",
    "        snapshot = Image.open(selected_image_path)\n",
    "        snapshot.save(snapshot_path)\n",
    "\n",
    "        # Extract text from the snapshot image\n",
    "        extracted_text = extract_text_from_image(snapshot_path)\n",
    "\n",
    "        # Display the extracted text\n",
    "        print(\"Extracted Text:\")\n",
    "        print(extracted_text)\n",
    "\n",
    "        # Ask the user where to store the text\n",
    "        save_path = filedialog.asksaveasfilename(defaultextension=\".txt\", filetypes=[(\"Text Files\", \"*.txt\")])\n",
    "\n",
    "        # Save the extracted text to the specified location\n",
    "        if save_path:\n",
    "            save_text(extracted_text, save_path)\n",
    "\n",
    "        # Remove the snapshot image\n",
    "        os.remove(snapshot_path)\n",
    "\n",
    "# Create the main window\n",
    "window = tk.Tk()\n",
    "\n",
    "# Create an \"Upload\" button\n",
    "upload_button = tk.Button(window, text=\"Upload Image\", command=select_image)\n",
    "upload_button.pack(pady=10)\n",
    "\n",
    "# Create a label to display the selected image\n",
    "image_label = tk.Label(window)\n",
    "image_label.pack()\n",
    "\n",
    "# Create a \"Process\" button\n",
    "process_button = tk.Button(window, text=\"Process Image\", command=process_image)\n",
    "process_button.pack(pady=10)\n",
    "\n",
    "# Initialize the selected_image_path variable\n",
    "selected_image_path = None\n",
    "\n",
    "# Start the main loop\n",
    "window.mainloop()\n"
   ]
  },
  {
   "cell_type": "code",
   "execution_count": null,
   "id": "1845ddcb",
   "metadata": {},
   "outputs": [],
   "source": []
  }
 ],
 "metadata": {
  "kernelspec": {
   "display_name": "Python 3 (ipykernel)",
   "language": "python",
   "name": "python3"
  },
  "language_info": {
   "codemirror_mode": {
    "name": "ipython",
    "version": 3
   },
   "file_extension": ".py",
   "mimetype": "text/x-python",
   "name": "python",
   "nbconvert_exporter": "python",
   "pygments_lexer": "ipython3",
   "version": "3.9.13"
  }
 },
 "nbformat": 4,
 "nbformat_minor": 5
}
